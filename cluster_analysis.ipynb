{
 "cells": [
  {
   "cell_type": "code",
   "execution_count": 1,
   "id": "3129741e-fb73-495a-9e3a-7fa35fa90b56",
   "metadata": {},
   "outputs": [],
   "source": [
    "import sys\n",
    "import os\n",
    "\n",
    "# Absolute path to your module's directory\n",
    "module_path = os.path.abspath('/localscratch/zippoema/git/HPA/src/')\n",
    "if module_path not in sys.path:\n",
    "    sys.path.insert(0, module_path)\n",
    "\n",
    "import hpa.cluster as hpacl  # Now this should work\n",
    "import hpa.util as hpau  # Now this should work"
   ]
  },
  {
   "cell_type": "code",
   "execution_count": 2,
   "id": "5c917b65-6cef-435a-a865-f3ee26ba6bd1",
   "metadata": {},
   "outputs": [],
   "source": [
    "import numpy as np\n",
    "from matplotlib import pyplot as plt\n",
    "from tqdm import tqdm\n",
    "import gsd.hoomd "
   ]
  },
  {
   "cell_type": "code",
   "execution_count": 3,
   "id": "e503b9d9-b93b-421d-8c59-e423d31da681",
   "metadata": {},
   "outputs": [],
   "source": [
    "plt.style.use('default')\n",
    "plt.style.use('/localscratch/zippoema/md_plots/rates_plot.mplstyle')"
   ]
  },
  {
   "cell_type": "code",
   "execution_count": 4,
   "id": "511bc8f0-100e-4a8e-bad7-626947fbe6e9",
   "metadata": {},
   "outputs": [],
   "source": [
    "path_200 = '/localscratch/zippoema/project_ness/simulations/200-tdp43_CAL3/'\n"
   ]
  },
  {
   "cell_type": "markdown",
   "id": "4808ca6f-d617-485a-a9f6-a41f451c65d4",
   "metadata": {},
   "source": [
    "### Size of the cluster"
   ]
  },
  {
   "cell_type": "code",
   "execution_count": null,
   "id": "e24bda5b-4e06-40c8-b449-e5d8d925b73a",
   "metadata": {},
   "outputs": [],
   "source": [
    "nc_5ck1d = np.zeros(len(times)-1)\n",
    "np_5ck1d = np.zeros(len(times)-1)\n",
    "\n",
    "for i in range(1,6):\n",
    "    tmp_nc_5ck1d, tmp_np_5ck1d = chains_in_condensate_helix(file_helix_splj+f'sim{i}_5-folded-ck1d_200-helix-tdp43_helix_no_rescaling_dump_processed.gsd', times[:-1], 5)\n",
    "    nc_5ck1d_helix_splj += tmp_nc_5ck1d\n",
    "    np_5ck1d_helix_splj += tmp_np_5ck1d_helix\n",
    "    \n",
    "nc_5ck1d_helix_splj /= 5\n",
    "np_5ck1d_helix_splj /= 5"
   ]
  },
  {
   "cell_type": "code",
   "execution_count": null,
   "id": "a2e013a5-2993-4405-b80f-62450abde5bc",
   "metadata": {},
   "outputs": [],
   "source": [
    "time_step = times*200000\n",
    "td_1 = np.where(nc_1ck1d/200 == 0.995)[0][0]\n",
    "td_3 = np.where(nc_3ck1d/200 == 0.995)[0][0]\n",
    "td_5 = np.where(nc_5ck1d/200 == 0.995)[0][0]\n",
    "\n",
    "fig, ax1 = plt.subplots(figsize=(4, 2.5))\n",
    "\n",
    "# Plot the first array with the primary y-axis\n",
    "ax1.plot(time_step[10:-1], nc_1ck1d[10:]/2, 'b')\n",
    "ax1.plot(time_step[:-1], nc_3ck1d/2, 'b--')\n",
    "ax1.plot(time_step[:-1], nc_5ck1d/2, 'b-.')\n",
    "ax1.set_xlabel('time [steps]')\n",
    "ax1.set_ylabel('% chains in condensate', color='b')\n",
    "ax1.plot(time_step[0], nc_1ck1d[0]/2, 'k', label=r'1 CK1$\\delta$')\n",
    "ax1.plot(time_step[0], nc_1ck1d[0]/2, 'k--', label=r'3 CK1$\\delta$')\n",
    "ax1.plot(time_step[0], nc_1ck1d[0]/2, 'k-.', label=r'5 CK1$\\delta$')\n",
    "\n",
    "secax = ax1.secondary_xaxis('top')\n",
    "secax.set_xticks([time_step[td_1], time_step[td_3], time_step[td_5]], ['$t^\\mathrm{1CK1\\delta}_\\mathrm{diss}$','$t^\\mathrm{3CK1\\delta}_\\mathrm{diss}$','$t^\\mathrm{5CK1\\delta}_\\mathrm{diss}$'], fontsize='x-small' )\n",
    "secax.tick_params(direction='in', color='grey' , length=0)\n",
    "\n",
    "ax1.vlines([time_step[td_1], time_step[td_3], time_step[td_5]],ymin=-10,ymax=105, ls=['-','--','-.'] ,color='grey', linewidth=1, alpha=0.6)\n",
    "ax1.set_ylim((-10,105))\n",
    "\n",
    "# Create a secondary y-axis and plot the second array\n",
    "ax2 = ax1.twinx()\n",
    "ax2.plot(time_step[:-1], np_1ck1d,  'r', alpha=0.8)\n",
    "ax2.plot(time_step[:-1], np_3ck1d, 'r--', alpha=0.8)\n",
    "ax2.plot(time_step[:-1], np_5ck1d, 'r-.', alpha=0.8)\n",
    "ax2.set_ylabel('phosphorylations', color='r')\n",
    "ax2.hlines([np_1ck1d[td_1], np_3ck1d[td_3], np_5ck1d[td_5]],xmin=0.3*10**8,xmax=5.05*10**8, ls=['-','--','-.'], color='grey', linewidth=1, alpha=0.6)\n",
    "ax2.set_xlim((0.3*10**8,5.05*10**8))\n",
    "\n",
    "ax2.plot([time_step[td_1], time_step[td_3], time_step[td_5]], [np_1ck1d[td_1], np_3ck1d[td_3], np_5ck1d[td_5]], 'or', alpha=0.4, ms=5)\n",
    "\n",
    "ax1.legend(ncols=3, loc='lower right')"
   ]
  }
 ],
 "metadata": {
  "kernelspec": {
   "display_name": "Python 3 (ipykernel)",
   "language": "python",
   "name": "python3"
  },
  "language_info": {
   "codemirror_mode": {
    "name": "ipython",
    "version": 3
   },
   "file_extension": ".py",
   "mimetype": "text/x-python",
   "name": "python",
   "nbconvert_exporter": "python",
   "pygments_lexer": "ipython3",
   "version": "3.11.2"
  }
 },
 "nbformat": 4,
 "nbformat_minor": 5
}
