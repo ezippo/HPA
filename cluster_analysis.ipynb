{
 "cells": [
  {
   "cell_type": "code",
   "execution_count": 1,
   "id": "3129741e-fb73-495a-9e3a-7fa35fa90b56",
   "metadata": {},
   "outputs": [],
   "source": [
    "import sys\n",
    "import os\n",
    "\n",
    "# Absolute path to your module's directory\n",
    "module_path = os.path.abspath('/localscratch/zippoema/git/HPA/src/')\n",
    "if module_path not in sys.path:\n",
    "    sys.path.insert(0, module_path)\n",
    "\n",
    "import hpa.cluster as hpacl  # Now this should work\n",
    "import hpa.util as hpau  # Now this should work"
   ]
  },
  {
   "cell_type": "code",
   "execution_count": 2,
   "id": "5c917b65-6cef-435a-a865-f3ee26ba6bd1",
   "metadata": {},
   "outputs": [],
   "source": [
    "import numpy as np\n",
    "from matplotlib import pyplot as plt\n",
    "from tqdm import tqdm\n",
    "import gsd.hoomd "
   ]
  },
  {
   "cell_type": "code",
   "execution_count": 3,
   "id": "e503b9d9-b93b-421d-8c59-e423d31da681",
   "metadata": {},
   "outputs": [],
   "source": [
    "plt.style.use('default')\n",
    "plt.style.use('/localscratch/zippoema/md_plots/rates_plot.mplstyle')"
   ]
  },
  {
   "cell_type": "code",
   "execution_count": 4,
   "id": "511bc8f0-100e-4a8e-bad7-626947fbe6e9",
   "metadata": {},
   "outputs": [],
   "source": [
    "path_200 = '/localscratch/zippoema/project_ness/simulations/200-tdp43_CAL3/'\n"
   ]
  },
  {
   "cell_type": "code",
   "execution_count": 5,
   "id": "1e432d90-c734-4588-82a8-aa34fb4a9b0a",
   "metadata": {},
   "outputs": [],
   "source": [
    "step = 20\n",
    "times = np.arange(200,2500,step, dtype=int)-1\n"
   ]
  },
  {
   "cell_type": "markdown",
   "id": "4808ca6f-d617-485a-a9f6-a41f451c65d4",
   "metadata": {},
   "source": [
    "### Size of the cluster"
   ]
  },
  {
   "cell_type": "code",
   "execution_count": 6,
   "id": "e24bda5b-4e06-40c8-b449-e5d8d925b73a",
   "metadata": {},
   "outputs": [
    {
     "ename": "NameError",
     "evalue": "name 'gsd' is not defined",
     "output_type": "error",
     "traceback": [
      "\u001b[31m---------------------------------------------------------------------------\u001b[39m",
      "\u001b[31mNameError\u001b[39m                                 Traceback (most recent call last)",
      "\u001b[36mCell\u001b[39m\u001b[36m \u001b[39m\u001b[32mIn[6]\u001b[39m\u001b[32m, line 5\u001b[39m\n\u001b[32m      2\u001b[39m np_5ck1d = np.zeros(\u001b[38;5;28mlen\u001b[39m(times)-\u001b[32m1\u001b[39m)\n\u001b[32m      4\u001b[39m \u001b[38;5;28;01mfor\u001b[39;00m i \u001b[38;5;129;01min\u001b[39;00m \u001b[38;5;28mrange\u001b[39m(\u001b[32m1\u001b[39m,\u001b[32m6\u001b[39m):\n\u001b[32m----> \u001b[39m\u001b[32m5\u001b[39m     tmp_nc_5ck1d, tmp_np_5ck1d = \u001b[43mhpacl\u001b[49m\u001b[43m.\u001b[49m\u001b[43mchains_in_condensate\u001b[49m\u001b[43m(\u001b[49m\u001b[43mpath_200\u001b[49m\u001b[43m+\u001b[49m\u001b[33;43mf\u001b[39;49m\u001b[33;43m'\u001b[39;49m\u001b[33;43msim_200-tdp43-lcd_5-ck1d-open/sim\u001b[39;49m\u001b[38;5;132;43;01m{\u001b[39;49;00m\u001b[43mi\u001b[49m\u001b[38;5;132;43;01m}\u001b[39;49;00m\u001b[33;43m_200-tdp43-lcd_5-com-ck1d-open_CAL3_dump_processed.gsd\u001b[39;49m\u001b[33;43m'\u001b[39;49m\u001b[43m,\u001b[49m\u001b[43m \u001b[49m\n\u001b[32m      6\u001b[39m \u001b[43m                                                      \u001b[49m\u001b[43mtimes\u001b[49m\u001b[43m[\u001b[49m\u001b[43m:\u001b[49m\u001b[43m-\u001b[49m\u001b[32;43m1\u001b[39;49m\u001b[43m]\u001b[49m\u001b[43m)\u001b[49m\n\u001b[32m      7\u001b[39m     nc_5ck1d += tmp_nc_5ck1d\n\u001b[32m      8\u001b[39m     np_5ck1d += tmp_np_5ck1d\n",
      "\u001b[36mFile \u001b[39m\u001b[32m/localscratch/zippoema/git/HPA/src/hpa/cluster.py:30\u001b[39m, in \u001b[36mchains_in_condensate\u001b[39m\u001b[34m(input_file, times, eps, min_sample)\u001b[39m\n\u001b[32m     27\u001b[39m n_chains_arr = np.zeros(\u001b[38;5;28mlen\u001b[39m(times))\n\u001b[32m     28\u001b[39m n_phospho_arr = np.zeros(\u001b[38;5;28mlen\u001b[39m(times))\n\u001b[32m---> \u001b[39m\u001b[32m30\u001b[39m \u001b[38;5;28;01mwith\u001b[39;00m \u001b[43mgsd\u001b[49m.hoomd.open(input_file, \u001b[33m'\u001b[39m\u001b[33mrb\u001b[39m\u001b[33m'\u001b[39m) \u001b[38;5;28;01mas\u001b[39;00m input_gsd:\n\u001b[32m     31\u001b[39m     \u001b[38;5;28mprint\u001b[39m(\u001b[38;5;28mlen\u001b[39m(input_gsd))\n\u001b[32m     32\u001b[39m     \u001b[38;5;28;01mfor\u001b[39;00m i, tt \u001b[38;5;129;01min\u001b[39;00m \u001b[38;5;28menumerate\u001b[39m(tqdm(times)):\n",
      "\u001b[31mNameError\u001b[39m: name 'gsd' is not defined"
     ]
    }
   ],
   "source": [
    "nc_5ck1d = np.zeros(len(times)-1)\n",
    "np_5ck1d = np.zeros(len(times)-1)\n",
    "\n",
    "for i in range(1,6):\n",
    "    tmp_nc_5ck1d, tmp_np_5ck1d = hpacl.chains_in_condensate(path_200+f'sim_200-tdp43-lcd_5-ck1d-open/sim{i}_200-tdp43-lcd_5-com-ck1d-open_CAL3_dump_processed.gsd', \n",
    "                                                      times[:-1])\n",
    "    nc_5ck1d += tmp_nc_5ck1d\n",
    "    np_5ck1d += tmp_np_5ck1d\n",
    "    \n",
    "nc_5ck1d /= 4\n",
    "np_5ck1d /= 4"
   ]
  },
  {
   "cell_type": "code",
   "execution_count": null,
   "id": "a2e013a5-2993-4405-b80f-62450abde5bc",
   "metadata": {},
   "outputs": [],
   "source": [
    "time_step = times*200000\n",
    "td_1 = np.where(nc_1ck1d/200 == 0.995)[0][0]\n",
    "td_3 = np.where(nc_3ck1d/200 == 0.995)[0][0]\n",
    "td_5 = np.where(nc_5ck1d/200 == 0.995)[0][0]\n",
    "\n",
    "fig, ax1 = plt.subplots(figsize=(4, 2.5))\n",
    "\n",
    "# Plot the first array with the primary y-axis\n",
    "ax1.plot(time_step[10:-1], nc_1ck1d[10:]/2, 'b')\n",
    "ax1.plot(time_step[:-1], nc_3ck1d/2, 'b--')\n",
    "ax1.plot(time_step[:-1], nc_5ck1d/2, 'b-.')\n",
    "ax1.set_xlabel('time [steps]')\n",
    "ax1.set_ylabel('% chains in condensate', color='b')\n",
    "ax1.plot(time_step[0], nc_1ck1d[0]/2, 'k', label=r'1 CK1$\\delta$')\n",
    "ax1.plot(time_step[0], nc_1ck1d[0]/2, 'k--', label=r'3 CK1$\\delta$')\n",
    "ax1.plot(time_step[0], nc_1ck1d[0]/2, 'k-.', label=r'5 CK1$\\delta$')\n",
    "\n",
    "secax = ax1.secondary_xaxis('top')\n",
    "secax.set_xticks([time_step[td_1], time_step[td_3], time_step[td_5]], ['$t^\\mathrm{1CK1\\delta}_\\mathrm{diss}$','$t^\\mathrm{3CK1\\delta}_\\mathrm{diss}$','$t^\\mathrm{5CK1\\delta}_\\mathrm{diss}$'], fontsize='x-small' )\n",
    "secax.tick_params(direction='in', color='grey' , length=0)\n",
    "\n",
    "ax1.vlines([time_step[td_1], time_step[td_3], time_step[td_5]],ymin=-10,ymax=105, ls=['-','--','-.'] ,color='grey', linewidth=1, alpha=0.6)\n",
    "ax1.set_ylim((-10,105))\n",
    "\n",
    "# Create a secondary y-axis and plot the second array\n",
    "ax2 = ax1.twinx()\n",
    "ax2.plot(time_step[:-1], np_1ck1d,  'r', alpha=0.8)\n",
    "ax2.plot(time_step[:-1], np_3ck1d, 'r--', alpha=0.8)\n",
    "ax2.plot(time_step[:-1], np_5ck1d, 'r-.', alpha=0.8)\n",
    "ax2.set_ylabel('phosphorylations', color='r')\n",
    "ax2.hlines([np_1ck1d[td_1], np_3ck1d[td_3], np_5ck1d[td_5]],xmin=0.3*10**8,xmax=5.05*10**8, ls=['-','--','-.'], color='grey', linewidth=1, alpha=0.6)\n",
    "ax2.set_xlim((0.3*10**8,5.05*10**8))\n",
    "\n",
    "ax2.plot([time_step[td_1], time_step[td_3], time_step[td_5]], [np_1ck1d[td_1], np_3ck1d[td_3], np_5ck1d[td_5]], 'or', alpha=0.4, ms=5)\n",
    "\n",
    "ax1.legend(ncols=3, loc='lower right')"
   ]
  }
 ],
 "metadata": {
  "kernelspec": {
   "display_name": "Python 3 (ipykernel)",
   "language": "python",
   "name": "python3"
  },
  "language_info": {
   "codemirror_mode": {
    "name": "ipython",
    "version": 3
   },
   "file_extension": ".py",
   "mimetype": "text/x-python",
   "name": "python",
   "nbconvert_exporter": "python",
   "pygments_lexer": "ipython3",
   "version": "3.11.2"
  }
 },
 "nbformat": 4,
 "nbformat_minor": 5
}
