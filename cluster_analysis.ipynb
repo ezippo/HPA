{
 "cells": [
  {
   "cell_type": "code",
   "execution_count": 1,
   "id": "3129741e-fb73-495a-9e3a-7fa35fa90b56",
   "metadata": {},
   "outputs": [],
   "source": [
    "import sys\n",
    "import os\n",
    "\n",
    "# Absolute path to your module's directory\n",
    "module_path = os.path.abspath('/localscratch/zippoema/git/HPA/src/')\n",
    "if module_path not in sys.path:\n",
    "    sys.path.insert(0, module_path)\n",
    "\n",
    "import hpa.cluster as hpacl  # Now this should work\n",
    "import hpa.util as hpau  # Now this should work"
   ]
  },
  {
   "cell_type": "code",
   "execution_count": 2,
   "id": "5c917b65-6cef-435a-a865-f3ee26ba6bd1",
   "metadata": {},
   "outputs": [],
   "source": [
    "import numpy as np\n",
    "from matplotlib import pyplot as plt\n",
    "from tqdm import tqdm\n",
    "import gsd.hoomd "
   ]
  },
  {
   "cell_type": "code",
   "execution_count": 3,
   "id": "e503b9d9-b93b-421d-8c59-e423d31da681",
   "metadata": {},
   "outputs": [],
   "source": [
    "plt.style.use('default')\n",
    "plt.style.use('/localscratch/zippoema/md_plots/rates_plot.mplstyle')"
   ]
  },
  {
   "cell_type": "markdown",
   "id": "4808ca6f-d617-485a-a9f6-a41f451c65d4",
   "metadata": {},
   "source": [
    "### Size of the cluster"
   ]
  },
  {
   "cell_type": "code",
   "execution_count": null,
   "id": "e24bda5b-4e06-40c8-b449-e5d8d925b73a",
   "metadata": {},
   "outputs": [],
   "source": []
  }
 ],
 "metadata": {
  "kernelspec": {
   "display_name": "Python 3 (ipykernel)",
   "language": "python",
   "name": "python3"
  },
  "language_info": {
   "codemirror_mode": {
    "name": "ipython",
    "version": 3
   },
   "file_extension": ".py",
   "mimetype": "text/x-python",
   "name": "python",
   "nbconvert_exporter": "python",
   "pygments_lexer": "ipython3",
   "version": "3.11.2"
  }
 },
 "nbformat": 4,
 "nbformat_minor": 5
}
