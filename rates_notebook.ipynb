{
 "cells": [
  {
   "cell_type": "code",
   "execution_count": 6,
   "id": "ffeefd06",
   "metadata": {},
   "outputs": [],
   "source": [
    "import numpy as np\n",
    "from matplotlib import pyplot as plt\n",
    "from scipy.optimize import curve_fit\n",
    "import time\n",
    "import tqdm\n",
    "\n",
    "from matplotlib import cm\n",
    "from matplotlib.colors import Normalize\n"
   ]
  },
  {
   "cell_type": "code",
   "execution_count": 5,
   "id": "f5e81db3",
   "metadata": {},
   "outputs": [],
   "source": [
    "import sys\n",
    "import os\n",
    "\n",
    "# Absolute path to your module's directory\n",
    "module_path = os.path.abspath('/localscratch/zippoema/git/HPA/src/')\n",
    "if module_path not in sys.path:\n",
    "    sys.path.insert(0, module_path)\n",
    "\n",
    "import hpa  # Now this should work"
   ]
  },
  {
   "cell_type": "code",
   "execution_count": null,
   "id": "c453c1b9",
   "metadata": {},
   "outputs": [],
   "source": []
  }
 ],
 "metadata": {
  "kernelspec": {
   "display_name": "Python 3 (ipykernel)",
   "language": "python",
   "name": "python3"
  },
  "language_info": {
   "codemirror_mode": {
    "name": "ipython",
    "version": 3
   },
   "file_extension": ".py",
   "mimetype": "text/x-python",
   "name": "python",
   "nbconvert_exporter": "python",
   "pygments_lexer": "ipython3",
   "version": "3.10.9"
  }
 },
 "nbformat": 4,
 "nbformat_minor": 5
}
