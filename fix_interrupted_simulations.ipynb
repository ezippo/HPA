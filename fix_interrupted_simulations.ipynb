{
 "cells": [
  {
   "cell_type": "code",
   "execution_count": 52,
   "id": "87bbcf6b",
   "metadata": {},
   "outputs": [],
   "source": [
    "import numpy as np\n",
    "import gsd.hoomd"
   ]
  },
  {
   "cell_type": "code",
   "execution_count": 56,
   "id": "e99b72dd",
   "metadata": {},
   "outputs": [],
   "source": [
    "path = '/localscratch/zippoema/project_ness/simulations/200-tdp43_CAL3/sim_sh_200-tdp43-lcd-793pser_2-ck1d-open_10-pp3/'"
   ]
  },
  {
   "cell_type": "code",
   "execution_count": 88,
   "id": "5c645222",
   "metadata": {},
   "outputs": [],
   "source": [
    "s=2"
   ]
  },
  {
   "cell_type": "code",
   "execution_count": 89,
   "id": "c7db5c40",
   "metadata": {},
   "outputs": [],
   "source": [
    "tr1 = gsd.hoomd.open(path+f'sim{s}_200-tdp43-lcd-793pser_2-com-ck1d-open_10-com-pp3_CAL3_restart1.gsd', mode='rb')[0]\n",
    "tr2 = gsd.hoomd.open(path+f'sim{s}_200-tdp43-lcd-793pser_2-com-ck1d-open_10-com-pp3_CAL3_restart2.gsd', mode='rb')[0]"
   ]
  },
  {
   "cell_type": "code",
   "execution_count": 90,
   "id": "5b2a9e8e",
   "metadata": {},
   "outputs": [],
   "source": [
    "restart = tr2 if tr1.log['Simulation/timestep'][0] < tr2.log['Simulation/timestep'][0] else tr1\n",
    "ts = restart.log['Simulation/timestep'][0]\n",
    "tr = gsd.hoomd.open(path+f'sim{s}_200-tdp43-lcd-793pser_2-com-ck1d-open_10-com-pp3_CAL3_dump.gsd', mode='rb')"
   ]
  },
  {
   "cell_type": "code",
   "execution_count": 91,
   "id": "23a57123",
   "metadata": {},
   "outputs": [
    {
     "data": {
      "text/plain": [
       "301200000.0"
      ]
     },
     "execution_count": 91,
     "metadata": {},
     "output_type": "execute_result"
    }
   ],
   "source": [
    "len(tr)*2*1e5"
   ]
  },
  {
   "cell_type": "code",
   "execution_count": 92,
   "id": "03fa341a-8b9b-48ef-a1c8-2ceb482ba4f7",
   "metadata": {},
   "outputs": [
    {
     "data": {
      "text/plain": [
       "301000000"
      ]
     },
     "execution_count": 92,
     "metadata": {},
     "output_type": "execute_result"
    }
   ],
   "source": [
    "ts"
   ]
  },
  {
   "cell_type": "code",
   "execution_count": 93,
   "id": "5623c940-dda6-45b0-9d89-a5dafb990976",
   "metadata": {},
   "outputs": [],
   "source": [
    "c = np.loadtxt(path+f'sim{s}_200-tdp43-lcd-793pser_2-com-ck1d-open_10-com-pp3_CAL3_contactsBCKP.txt')"
   ]
  },
  {
   "cell_type": "code",
   "execution_count": 94,
   "id": "78fbe975-5f55-404b-a7b8-ce32dca8629b",
   "metadata": {},
   "outputs": [
    {
     "data": {
      "text/plain": [
       "array([2.00086800e+08, 2.00799600e+08, 2.01262001e+08, ...,\n",
       "       3.00843405e+08, 3.00843605e+08, 3.00843805e+08])"
      ]
     },
     "execution_count": 94,
     "metadata": {},
     "output_type": "execute_result"
    }
   ],
   "source": [
    "c[:,0]"
   ]
  },
  {
   "cell_type": "code",
   "execution_count": 95,
   "id": "8e48a76b-f987-4b1a-800c-6661662438b9",
   "metadata": {},
   "outputs": [],
   "source": [
    "for s in range(2,5):\n",
    "    snap = gsd.hoomd.open(path+f'sim{s}_200-tdp43-lcd-793pser_2-com-ck1d-open_10-com-pp3_CAL3_dump.gsd', mode='rb')[-2]\n",
    "    with gsd.hoomd.open(path+f'sim{s}_200-tdp43-lcd-793pser_2-com-ck1d-open_10-com-pp3_CAL3_end.gsd', mode='wb') as f:\n",
    "        f.append(snap)"
   ]
  },
  {
   "cell_type": "code",
   "execution_count": null,
   "id": "0c727ce2-3251-4a26-ac92-04b09098c0ac",
   "metadata": {},
   "outputs": [],
   "source": []
  }
 ],
 "metadata": {
  "kernelspec": {
   "display_name": "Python 3 (ipykernel)",
   "language": "python",
   "name": "python3"
  },
  "language_info": {
   "codemirror_mode": {
    "name": "ipython",
    "version": 3
   },
   "file_extension": ".py",
   "mimetype": "text/x-python",
   "name": "python",
   "nbconvert_exporter": "python",
   "pygments_lexer": "ipython3",
   "version": "3.11.2"
  }
 },
 "nbformat": 4,
 "nbformat_minor": 5
}
