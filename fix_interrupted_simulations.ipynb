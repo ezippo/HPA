{
 "cells": [
  {
   "cell_type": "code",
   "execution_count": 1,
   "id": "87bbcf6b",
   "metadata": {},
   "outputs": [],
   "source": [
    "import numpy as np\n",
    "import gsd.hoomd"
   ]
  },
  {
   "cell_type": "code",
   "execution_count": 5,
   "id": "e99b72dd",
   "metadata": {},
   "outputs": [],
   "source": [
    "path = '/localscratch/zippoema/md_data/sim_200-tdp43-lcd-2800pser_5-pp3/'"
   ]
  },
  {
   "cell_type": "code",
   "execution_count": null,
   "id": "5c645222",
   "metadata": {},
   "outputs": [],
   "source": [
    "for s in range(1,6):\n",
    "    "
   ]
  },
  {
   "cell_type": "code",
   "execution_count": 11,
   "id": "c7db5c40",
   "metadata": {},
   "outputs": [],
   "source": [
    "tr1 = gsd.hoomd.open(path+'sim1_200-tdp43-lcd-2800pser_5-com-pp3_CAL3_restart1.gsd', mode='rb')[0]\n",
    "tr2 = gsd.hoomd.open(path+'sim1_200-tdp43-lcd-2800pser_5-com-pp3_CAL3_restart2.gsd', mode='rb')[0]"
   ]
  },
  {
   "cell_type": "code",
   "execution_count": 16,
   "id": "5b2a9e8e",
   "metadata": {},
   "outputs": [
    {
     "data": {
      "text/plain": [
       "(200000000, 199800000)"
      ]
     },
     "execution_count": 16,
     "metadata": {},
     "output_type": "execute_result"
    }
   ],
   "source": [
    "tr1.log['Simulation/timestep'][0], tr2.log['Simulation/timestep'][0]"
   ]
  },
  {
   "cell_type": "code",
   "execution_count": null,
   "id": "23a57123",
   "metadata": {},
   "outputs": [],
   "source": []
  }
 ],
 "metadata": {
  "kernelspec": {
   "display_name": "Python 3 (ipykernel)",
   "language": "python",
   "name": "python3"
  },
  "language_info": {
   "codemirror_mode": {
    "name": "ipython",
    "version": 3
   },
   "file_extension": ".py",
   "mimetype": "text/x-python",
   "name": "python",
   "nbconvert_exporter": "python",
   "pygments_lexer": "ipython3",
   "version": "3.10.9"
  }
 },
 "nbformat": 4,
 "nbformat_minor": 5
}
